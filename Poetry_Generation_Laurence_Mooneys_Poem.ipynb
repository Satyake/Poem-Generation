{
  "nbformat": 4,
  "nbformat_minor": 0,
  "metadata": {
    "colab": {
      "name": "Poetry Generation-Laurence Mooneys Poem",
      "provenance": [],
      "collapsed_sections": [],
      "machine_shape": "hm",
      "authorship_tag": "ABX9TyOvLT1UYOWIuKJYFtmkU/4i",
      "include_colab_link": true
    },
    "kernelspec": {
      "name": "python3",
      "display_name": "Python 3"
    },
    "language_info": {
      "name": "python"
    },
    "accelerator": "GPU"
  },
  "cells": [
    {
      "cell_type": "markdown",
      "metadata": {
        "id": "view-in-github",
        "colab_type": "text"
      },
      "source": [
        "<a href=\"https://colab.research.google.com/github/Satyake/Poem-Generation/blob/main/Poetry_Generation_Laurence_Mooneys_Poem.ipynb\" target=\"_parent\"><img src=\"https://colab.research.google.com/assets/colab-badge.svg\" alt=\"Open In Colab\"/></a>"
      ]
    },
    {
      "cell_type": "code",
      "metadata": {
        "colab": {
          "base_uri": "https://localhost:8080/"
        },
        "id": "__HHkuhFOYVU",
        "outputId": "a0da5112-eb45-4182-e634-acf07431b49e"
      },
      "source": [
        "import nltk\n",
        "from nltk.corpus import stopwords\n",
        "from nltk.corpus import stopwords\n",
        "from nltk.stem.porter import PorterStemmer\n",
        "from nltk.stem import WordNetLemmatizer\n",
        "from gensim.models import Word2Vec \n",
        "from keras.preprocessing.text import one_hot\n",
        "from keras.preprocessing.sequence import pad_sequences\n",
        "nltk.download('stopwords')\n",
        "nltk.download('wordnet')"
      ],
      "execution_count": 1,
      "outputs": [
        {
          "output_type": "stream",
          "text": [
            "[nltk_data] Downloading package stopwords to /root/nltk_data...\n",
            "[nltk_data]   Unzipping corpora/stopwords.zip.\n",
            "[nltk_data] Downloading package wordnet to /root/nltk_data...\n",
            "[nltk_data]   Unzipping corpora/wordnet.zip.\n"
          ],
          "name": "stdout"
        },
        {
          "output_type": "execute_result",
          "data": {
            "text/plain": [
              "True"
            ]
          },
          "metadata": {
            "tags": []
          },
          "execution_count": 1
        }
      ]
    },
    {
      "cell_type": "code",
      "metadata": {
        "id": "Bz4tJOsYQETu"
      },
      "source": [
        "with open('/content/laurencepoem.txt') as f:\n",
        "  file=f.read()"
      ],
      "execution_count": 2,
      "outputs": []
    },
    {
      "cell_type": "code",
      "metadata": {
        "colab": {
          "base_uri": "https://localhost:8080/"
        },
        "id": "0k1zXm8ZDBl_",
        "outputId": "442ba933-9d11-49a0-f72c-3c984a7efed4"
      },
      "source": [
        "len(file)"
      ],
      "execution_count": 3,
      "outputs": [
        {
          "output_type": "execute_result",
          "data": {
            "text/plain": [
              "68969"
            ]
          },
          "metadata": {
            "tags": []
          },
          "execution_count": 3
        }
      ]
    },
    {
      "cell_type": "code",
      "metadata": {
        "id": "-O9c70a7DnJK"
      },
      "source": [
        "#file=file.split('\\n')"
      ],
      "execution_count": 189,
      "outputs": []
    },
    {
      "cell_type": "code",
      "metadata": {
        "colab": {
          "base_uri": "https://localhost:8080/",
          "height": 153
        },
        "id": "E8-NKpKaNs8t",
        "outputId": "138f494f-c43d-43c8-d924-d3926e83290b"
      },
      "source": [
        "file"
      ],
      "execution_count": 4,
      "outputs": [
        {
          "output_type": "execute_result",
          "data": {
            "application/vnd.google.colaboratory.intrinsic+json": {
              "type": "string"
            },
            "text/plain": [
              "'Come all ye maidens young and fair\\nAnd you that are blooming in your prime\\nAlways beware and keep your garden fair\\nLet no man steal away your thyme\\nFor thyme it is a precious thing\\nAnd thyme brings all things to my mind\\nnlyme with all its flavours, along with all its joys\\nThyme, brings all things to my mind\\nOnce I and a bunch of thyme\\ni thought it never would decay\\nThen came a lusty sailor\\nWho chanced to pass my way\\nAnd stole my bunch of thyme away\\nThe sailor gave to me a rose\\nA rose that never would decay\\nHe gave it to me to keep me reminded\\nOf when he stole my thyme away\\nSleep, my child, and peace attend thee\\nAll through the night\\nGuardian angels God will send thee\\nSoft the drowsy hours are creeping\\nHill and dale in slumber sleeping\\nI my loving vigil keeping\\nWhile the moon her watch is keeping\\nWhile the weary world is sleeping\\nOer thy spirit gently stealing\\nVisions of delight revealing\\nBreathes a pure and holy feeling\\nThough I roam a minstrel lonely\\nMy true harp shall praise sing only\\nLoves young dream, alas, is over\\nYet my strains of love shall hover\\nNear the presence of my lover\\nHark, a solemn bell is ringing\\nClear through the night\\nThou, my love, art heavenward winging\\nHome through the night\\nEarthly dust from off thee shaken\\nSoul immortal shalt thou awaken\\nWith thy last dim journey taken\\nOh please neer forget me though waves now lie oer me\\nI was once young and pretty and my spirit ran free\\nBut destiny tore me from country and loved ones\\nAnd from the new land I was never to see.\\nA poor emigrants daughter too frightened to know\\nI was leaving forever the land of my soul\\nAmid struggle and fear my parents did pray\\nTo place courage to leave oer the longing to stay.\\nThey spoke of a new land far away cross the sea\\nAnd of peace and good fortune for my brothers and me\\nSo we parted from townland with much weeping and pain\\nKissed the loved ones and the friends we would neer see again.\\nThe vessel was crowded with disquieted folk\\nThe escape from past hardship sustaining their hope\\nBut as the last glimpse of Ireland faded into the mist\\nEach one fought back tears and felt strangely alone.\\nThe seas roared in anger, making desperate our plight\\nAnd a fever came oer me that worsened next night\\nThen delirium possessed me and clouded my mind\\nAnd I for a moment saw that land left behind.\\nI could hear in the distance my dear mothers wailing\\nAnd the prayers of three brothers that Id see no more\\nAnd I felt fathers tears as he begged for forgiveness\\nFor seeking a new life on the still distant shore.\\nOver in Killarney\\nMany years ago,\\nMe Mither sang a song to me\\nIn tones so sweet and low.\\nJust a simple little ditty,\\nIn her good ould Irish way,\\nAnd ld give the world if she could sing\\nThat song to me this day.\\nToo-ra-loo-ra-loo-ral, Too-ra-loo-ra-li,\\nToo-ra-loo-ra-loo-ral, hush now, dont you cry!\\nToo-ra-loo-ra-loo-ral, thats an Irish lullaby.\\nOft in dreams I wander\\nTo that cot again,\\nI feel her arms a-huggin me\\nAs when she held me then.\\nAnd I hear her voice a -hummin\\nTo me as in days of yore,\\nWhen she used to rock me fast asleep\\nOutside the cabin door.\\nAnd who are you, me pretty fair maid\\nAnd who are you, me honey?\\nShe answered me quite modestly:\\nI am me mothers darling.\\nWith me too-ry-ay\\nFol-de-diddle-day\\nDi-re fol-de-diddle\\nDai-rie oh.\\nAnd will you come to me mothers house,\\nWhen the sun is shining clearly\\nIll open the door and Ill let you in\\nAnd divil o one would hear us.\\nSo I went to her house in the middle of the night\\nWhen the moon was shining clearly\\nShc opened the door and she let me in\\nAnd divil the one did hear us.\\nShe took me horse by the bridle and the bit\\nAnd she led him to the stable\\nSaying Theres plenty of oats for a soldiers horse,\\nTo eat it if hes able.\\nThen she took me by the lily-white hand\\nAnd she led me to the table\\nSaying: Theres plenty of wine for a soldier boy,\\nTo drink it if youre able.\\nThen I got up and made the bed\\nAnd I made it nice and aisy\\nThen I got up and laid her down\\nSaying: Lassie, are you able?\\nAnd there we lay till the break of day\\nAnd divil a one did hear us\\nThen I arose and put on me clothes\\nSaying: Lassie, I must leave you.\\nAnd when will you return again\\nAnd when will we get married\\nWhen broken shells make Christmas bells\\nWe might well get married\\nIn 1803 we sailed out to sea\\nOut from the sweet town of Derry\\nFor Australia bound if we didnt all drown\\nAnd the marks of our fetters we carried.\\nIn the rusty iron chains we sighed for our wains\\nAs our good wives we left in sorrow.\\nAs the mainsails unfurled our curses we hurled\\nOn the English and thoughts of tomorrow.\\nOh Oh Oh Oh I wish I was back home in Derry.\\nI cursed them to hell as our bow fought the swell.\\nOur ship danced like a moth in the firelights.\\nWhite horses rode high as the devil passed by\\nTaking souls to Hades by twilight.\\nFive weeks out to sea we were now forty-three\\nOur comrades we buried each morning.\\nIn our own slime we were lost in a time.\\nEndless night without dawning.\\nVan Diemans land is a hell for a man\\nTo live out his life in slavery.\\nWhen the climate is raw and the gun makes the law.\\nNeither wind nor rain cares for bravery.\\nTwenty years have gone by and Ive ended me bond\\nAnd comrades ghosts are behind me.\\nA rebel I came and III die the same.\\nOn the cold winds of night you will find me\\nOn the banks of the roses, my love and I sat down\\nAnd I took out my violin to play my love a tune\\nIn the middle of the tune, O she sighed and she said\\nO Johnny, lovely Johnny, Would you leave me\\nO when I was a young man, I heard my father say\\nThat hed rather see me dead and buried in the clay\\nSooner than be married to any runaway\\nBy the lovely sweet banks of the roses\\nO then I am no runaway and soon Ill let them know\\nI can take a good glass or leave it alone\\nAnd the man that doesnt like me, he can keep\\nhis daughter home\\nAnd young Johnny will go roving with another\\nAnd if ever I get married, twill be in the month of May\\nWhen the leaves they are green and the meadows\\nthey are gay\\nAnd I and my true love can sit and sport and play\\nOn the lovely sweet banks of the roses\\nBut Black is the colour of my true loves hair.\\nHis face is like some rosy fair,\\nThe prettiest face and the neatest hands,\\nI love the ground whereon he stands.\\nI love my love and well he knows\\nI love the ground whereon he goes\\nIf you no more on earth I see,\\nI cant serve you as you have me.\\nThe winters passed and the leaves are green\\nThe time is passed that we have seen,\\nBut still I hope the time will come\\nWhen you and I shall be as one.\\nI go to the Clyde for to mourn and weep,\\nBut satisfied I never could sleep,\\nIll write to you a few short lines\\nIll suffer death ten thousand times.\\nSo fare you well, my own true love\\nThe time has passed, but I wish you well.\\nWhen you and I will be as one.\\nI love the ground whereon he goes,\\nThe prettiest face, the neatest hands\\nHer eyes they shone like the diamonds\\nYoud think she was queen of the land\\nAnd her hair hung over her shoulder\\nTied up with a black velvet band.\\nIn a neat little town they call Belfast\\nApprenticed to trade I was bound\\nAnd many an hours sweet happiness\\nI spent in that neat little town.\\nTill bad misfortune came oer me\\nThat caused me to stray from the land\\nFar away from my friends and relations\\nTo follow the black velvet band.\\nWell, I was out strolling one evening\\nNot meaning to go very far\\nWhen I met with a pretty young damsel\\nWho was selling her trade in the bar.\\nWhen I watched, she took from a customer\\nAnd slipped it right into my hand\\nThen the Watch came and put me in prison\\nBad luck to the black velvet band.\\nNext morning before judge and jury\\nFor a trial I had to appear\\nAnd the judge, he said, You young fellows...\\nThe case against you is quite clear\\nAnd seven long years is your sentence\\nYoure going to Van Diemans Land\\nFar away from your friends and relations\\nSo come all you jolly young fellows\\nId have you take warning by me\\nWhenever youre out on the liquor, me lads,\\nBeware of the pretty colleen.\\nShell fill you with whiskey and porter\\nUntil youre not able to stand\\nAnd the very next thing that youll know, me lads,\\nYoure landed in Van Diemans Land.\\nHeres a health to you, bonnie Kellswater\\nFor its there youll find the pleasures of life\\nAnd its there youll find a fishing and farming\\nAnd a bonnie wee girl for your wife\\nOn the hills and the glens and the valleys\\nGrows the softest of women so fine\\nAnd the flowers are all dripping with honey\\nThere lives Martha, a true love of mine\\nBonnie Martha, youre the first girl I courted\\nYoure the one put my heart in a snare\\nAnd if ever I should lose you to another\\nI will leave my Kellswater so fair\\nFor this one and that one may court her\\nBut no other can take her from me\\nFor I love her as I love my Kellswater\\nLike the primrose is loved by the bee\\nOh Bridgit OMalley, you left my heart shaken\\nWith a hopeless desolation, Id have you to know\\nIts the wonders of admiration your quiet face has taken\\nAnd your beauty will haunt me wherever I go.\\nThe white moon above the pale sands, the pale stars above the thorn tree\\nAre cold beside my darling, but no purer than she\\nI gaze upon the cold moon till the stars drown in the warm sea\\nAnd the bright eyes of my darling are never on me.\\nMy Sunday it is weary, my Sunday it is grey now\\nMy heart is a cold thing, my heart is a stone\\nAll joy is dead within me, my life has gone away now\\nFor another has taken my love for his own.\\nThe day it is approaching when we were to be married\\nAnd its rather I would die than live only to grieve\\nOh meet me, my Darling, eer the sun sets oer the barley\\nAnd Ill meet you there on the road to Drumslieve.\\nOh Bridgit OMalley, youve left my heart shaken\\nI wish I was in Carrigfergus\\nOnly for nights in Ballygrant\\nI would swim over the deepest ocean\\nFor my love to find\\nBut the sea is wide and I cannot cross over\\nAnd neither have I the wings to fly\\nI wish I could meet a handsome boatsman\\nTo ferry me over, to my love and die.\\nMy childhood days bring back sad reflections\\nOf happy times I spent so long ago\\nMy boyhood friends and my own relations\\nHave all passed on now like melting snow.\\nBut Ill spend my days in endless roaming\\nSoft is the grass, my bed is free.\\nAh, to be back now in Carrigfergus\\nOn that long road down to the sea.\\nBut in Kilkenny, it is reported\\nOn marble stones there as black as ink\\nWith gold and silver I would support her\\nBut Ill sing no more till I get a drink.\\nFor Im drunk today, and Im seldom sober\\nA handsome rover from town to town\\nAh, but Im sick now, my days are numbered\\nYou may travel far far from your own native land\\nFar away oer the mountains, far away oer the foam\\nBut of all the fine places that Ive ever been\\nSure theres none can compare with the cliffs of Doneen.\\nTake a view oer the mountains, fine sights youll see there\\nYoull see the high rocky mountains oer the west coast of Clare\\nOh the town of Kilkee and Kilrush can be seen\\nFrom the high rocky slopes round the cliffs of Doneen.\\nIts a nice place to be on a fine summers day\\nWatching all the wild flowers that neer do decay\\nOh the hares and lofty pheasants are plain to be seen\\nMaking homes for their young round the cliffs of Doneen.\\nFare thee well to Doneen, fare thee well for a while\\nAnd to all the kind people Im leaving behind\\nTo the streams and the meadows where late I have been\\nAnd the high rocky slopes round the cliffs of Doneen.\\nIn Dublins fair city, where the girls are so pretty\\nI first set my eyes on sweet Molly Malone\\nAs she wheeled her wheel-barrow\\nThrough streets broad and narrow\\nCrying cockles and mussels, alive, alive-O!\\nAlive, alive-O! alive, alive-O!\\nShe was a fish-monger, but sure twas no wonder\\nFor so were her father and mother before\\nAnd they each wheeled their barrow\\nShe died of a fever, and no one could save her\\nAnd that was the end of sweet Molly Malone\\nBut her ghost wheels her barrow\\nThe Garden of Eden has vanished, they say\\nBut I know the lie of it still;\\nJust turn to the left at the bridge of Finea\\nAnd stop when halfway to Cootehill.\\nTis there I will find it,\\nI know sure enough\\nWhen fortune has come to me call,\\nOh the grass it is green around Ballyjamesduff\\nAnd the blue sky is over it all.\\nAnd tones that are tender and tones that are gruff\\nAre whispering over the sea,\\nCome back, Paddy Reilly to Ballyjamesduff\\nCome home, Paddy Reilly, to me.\\nMy mother once told me that when I was born\\nThe day that I first saw the light,\\nI looked down the street on that very first morn\\nAnd gave a great crow of delight.\\nNow most newborn babies appear in a huff,\\nAnd start with a sorrowful squall,\\nBut I knew I was born in Ballyjamesduff\\nAnd thats why I smiled on them all.\\nThe babys a man, now hes toil-worn and tough\\nStill, whispers come over the sea,\\nThe night that we danced by the light of the moon,\\nWid Phil to the fore wid his flute,\\nWhen Phil threw his lip over Come Again Soon,\\nHes dance the foot out o yer boot!\\nThe day that I took long Magee by the scruff\\nFor slanderin Rosie Kilrain,\\nThen, marchin him straight out of Ballyjamesduff,\\nAssisted him into a drain.\\nOh, sweet are the dreams, as the dudeen I puff,\\nOf whisperings over the sea,\\nIve loved the young women of every land,\\nThat always came easy to me;\\nJust barrin the belles of the Black-a-moor brand\\nAnd the chocolate shapes of Feegee.\\nBut that sort of love is a moonshiny stuff,\\nAnd never will addle me brain,\\nFor the bells will be ringin in Ballyjamesduff\\nFor me and me Rosie Kilrain!\\nAnd through all their glamour, their gas and their guff\\nA whisper comes over the sea,\\nIve struck oil at last!\\nIve struck work, and I vow\\nIve struck some remarkable clothes,\\nIve struck a policeman for sayin that now,\\nId go back to my beautiful Rose.\\nThe belles they may blarney,\\nthe boys they may bluff\\nBut this I will always maintain,\\nNo place in the world like Ballyjamesduff\\nNo guril (sic) like Rosie Kilrain.\\nIve paid for my passage, the sea may be rough\\nBut borne on each breeze there will be,\\nWill you come to the bower oer the free boundless ocean\\nWhere the stupendous waves roll in thundering motion,\\nWhere the mermaids are seen and the fierce tempest gathers,\\nTo loved Erin the green, the dear land of our fathers.\\nWill you come, will you, will you, will you come to the bower?\\nWill you come to the land of ONeill and ODonnell\\nOf Lord Lucan of old and immortal OConnell.\\nWhere Brian drove the Danes and Saint Patrick the vermin\\nAnd whose valleys remain still most beautiful and charming?\\nYou can visit Benburb and the storied Blackwater,\\nWhere Owen Roe met Munroe and his Chieftains did slaughter\\nWhere the lambs skip and play on the mossy all over,\\nFrom those bright golden views to enchanting Rostrevor.\\nYou can see Dublin city, and the fine groves of Blarney\\nThe Bann, Boyne, and Liffey and the Lakes of Killarney,\\nYou may ride on the tide on the broad majestic Shannon\\nYou may sail round Loch Neagh and see storied Dungannon.\\nYou can visit New Ross, gallant Wexford, and Gorey,\\nWhere the green was last seen by proud Saxon and Tory,\\nWhere the soil is sanctified by the blood of each true man\\nWhere they died satisfied that their enemies they would not run from.\\nWill you come and awake our lost land from its slumber\\nAnd her fetters well break, links that long are encumbered.\\nAnd the air will resound with hosannahs to greet you\\nOn the shore will be found gallant Irishmen to greet you.\\nOh Danny boy, the pipes, the pipes are calling\\nFrom glen to glen, and down the mountain side\\nThe summers gone, and all the flowers are dying\\nTis you, tis you must go and I must bide.\\nBut come ye back when summers in the meadow\\nOr when the valleys hushed and white with snow\\nTis Ill be here in sunshine or in shadow\\nOh Danny boy, oh Danny boy, I love you so.\\nAnd if you come, when all the flowers are dying\\nAnd I am dead, as dead I well may be\\nYoull come and find the place where I am lying\\nAnd kneel and say an Ave there for me.\\nAnd I shall hear, tho soft you tread above me\\nAnd all my dreams will warm and sweeter be\\nIf youll not fail to tell me that you love me\\nIll simply sleep in peace until you come to me.\\nI found my love by the gasworks croft\\nDreamed a dream by the old canal\\nKissed my girl by the factory wall\\nDirty old town, dirty old town.\\nClouds are drifting across the moon\\nCats are prowling on their beat\\nSprings a girl in the street at night\\nI heard a siren from the docks\\nSaw a train set the night on fire\\nSmelled the spring in the smokey wind\\nIm going to make a good sharp axe\\nShining steel tempered in the fire\\nWell chop you down like an old dead tree\\nt was down by the Salley Gardens, my love and I did meet.\\nShe crossed the Salley Gardens with little snow-white feet.\\nShe bid me take love easy, as the leaves grow on the tree,\\nBut I was young and foolish, and with her did not agree.\\nIn a field down by the river, my love and I did stand\\nAnd on my leaning shoulder, she laid her snow-white hand.\\nShe bid me take life easy , as the grass grows on the weirs\\nBut I was young and foolish, and now am full of tears.\\nDown by the Salley Gardens, my love and I did meet.\\nWhen, like the dawning day\\nEileen Aroon\\nLove sends his early ray\\nEileen Aroon.\\nWhat makes his dawning glow\\nChangeless through joy and woe\\nOnly the constant know\\nWere she no longer true\\nWhat would her lover do\\nFly with a broken chain\\nFar oer the bounding main\\nNever to love again\\nYouth must in time decay\\nBeauty must fade away\\nCastles are sacked in war\\nChieftains are scattered far\\nTruth is a fixed star\\nBelieve me, if all those endearing young charms\\nWhich I gaze on so fondly today\\nWere to change by tomorrow and fleet in my arms\\nLike fairy gifts fading away.\\nThou wouldst still be adored as this moment thou art\\nLet thy loveliness fade as it will\\nAnd around the dear ruin each wish of my heart\\nWould entwine itself verdantly still.\\nIt is not while beauty and youth are thine own\\nAnd thy cheeks unprofaned by a tear\\nThat the fervor and faith of a soul can be known\\nTo which time will but make thee more dear.\\nNo, the heart that has truly loved never forgets\\nBut as truly loves on to the close\\nAs the sunflower turns to her God when he sets\\nThe same look which she turned when she rose.\\nIll tell you a story of a row in the town,\\nWhen the green flag went up and the Crown rag came down,\\nTwas the neatest and sweetest thing ever you saw,\\nAnd they played the best games played in Erin Go Bragh.\\nOne of our comrades was down at Rings end,\\nFor the honor of Ireland to hold and defend,\\nHe had no veteran soldiers but volunteers raw,\\nPlaying sweet Mauser music for Erin Go Bragh.\\nNow heres to Pat Pearse and our comrades who died\\nTom Clark, MacDonagh, MacDiarmada, McBryde,\\nAnd heres to James Connolly who gave one hurrah,\\nAnd placed the machine guns for Erin Go Bragh.\\nOne brave English captain was ranting that day,\\nSaying, Give me one hour and Ill blow you away,\\nBut a big Mauser bullet got stuck in his craw,\\nAnd he died of lead poisoning in Erin Go Bragh.\\nOld Ceannt and his comrades like lions at bay,\\nFrom the South Dublin Union poured death and dismay,\\nAnd what was their horror when the Englishmen saw\\nAll the dead khaki soldiers in Erin Go Bragh.\\nNow heres to old Dublin, and heres her renown,\\nIn the long generation her fame will go down,\\nAnd our children will tell how their forefathers saw,\\nThe red blaze of freedom in Erin Go Bragh.\\nOf priests we can offer a charmin variety,\\nFar renownd for learnin and piety;\\nStill, Id advance ye widout impropriety,\\nFather OFlynn as the flowr of them all.\\ncho: Heres a health to you, Father OFlynn,\\nSlainte and slainte and slainte agin;\\nPowrfulest preacher, and tenderest teacher,\\nAnd kindliest creature in ould Donegal.\\nDont talk of your Provost and Fellows of Trinity,\\nFamous forever at Greek and Latinity,\\nDad and the divils and all at Divinity\\nFather OFlynn d make hares of them all!\\nCome, I venture to give ye my word,\\nNever the likes of his logic was heard,\\nDown from mythology into thayology,\\nTruth! and conchology if hed the call.\\nOch Father OFlynn, youve a wonderful way wid you,\\nAll ould sinners are wishful to pray wid you,\\nAll the young childer are wild for to play wid you,\\nYouve such a way wid you, Father avick.\\nStill for all youve so gentle a soul,\\nGad, youve your flock in the grandest control,\\nChecking the crazy ones, coaxin onaisy ones,\\nLifting the lazy ones on wid the stick.\\nAnd tho quite avoidin all foolish frivolity;\\nStill at all seasons of innocent jollity,\\nWhere was the playboy could claim an equality,\\nAt comicality, Father, wid you?\\nOnce the Bishop looked grave at your jest,\\nTill this remark set him off wid the rest:\\nIs it lave gaiety all to the laity?\\nCannot the clergy be Irishmen, too?\\nWhat did I have, said the fine old woman\\nWhat did I have, this proud old woman did say\\nI had four green fields, each one was a jewel\\nBut strangers came and tried to take them from me\\nI had fine strong sons, who fought to save my jewels\\nThey fought and they died, and that was my grief said she\\nLong time ago, said the fine old woman\\nLong time ago, this proud old woman did say\\nThere was war and death, plundering and pillage\\nMy children starved, by mountain, valley and sea\\nAnd their wailing cries, they shook the very heavens\\nMy four green fields ran red with their blood, said she\\nWhat have I now, said the fine old woman\\nWhat have I now, this proud old woman did say\\nI have four green fields, one of thems in bondage\\nIn strangers hands, that tried to take it from me\\nBut my sons had sons, as brave as were their fathers\\nMy fourth green field will bloom once again said she\\nJust give me your hand,\\nTabhair dom do lÃ¡mh.\\nJust give me your hand\\nAnd Ill walk with you,\\nThrough the streets of our land,\\nThrough the mountains so grand.\\nIf you give me your hand.\\nAnd come along with me.\\nWill you give me your hand,\\nAnd the world it can see,\\nThat we can be free,\\nIn peace and harmony?\\nFrom the north to the south.\\nFrom the east to the west.\\nEvery mountain, every valley,\\nEvery bush and birds nest!\\nFor the world it is ours.\\nAll the sea and the land,\\nTo destroy or command,\\nIn a gesture of peace.\\nWill you give me your hand\\nAnd all troubles will cease,\\nFor the strong and the weak,\\nFor the rich and the poor?\\nAll peoples and creeds,\\nLets meet their needs.\\nWith a passion, we can fashion,\\nA new world of love!\\nBy day and night,\\nThrough all struggle and strife,\\nAnd beside you, to guide you,\\nForever, my love.\\nFor loves not for one,\\nBut for both of us to share.\\nFor our country so fair,\\nFor our world and whats there.\\nGreen grow the lilacs, all sparkling with dew\\nIm lonely, my darling, since parting with you;\\nBut by our next meeting IUll hope to prove true\\nAnd change the green lilacs to the Red, White and Blue.\\nI once had a sweetheart, but now I have none\\nShes gone and shes left me, I care not for one\\nSince shes gone and left me, contented Ill be,\\nFor she loves another one better than me.\\nI passed my loves window, both early and late\\nThe look that she gave me, it makes my heart ache;\\nOh, the look that she gave me was painful to see,\\nI wrote my love letters in rosy red lines,\\nShe sent me an answer all twisted and twined;\\nSaying,Keep your love letters and I will keep mine\\nJust you write to your love and Ill write to mine.\\nOh Haste to the Wedding, the pipes, the pipes are calling\\nOh Haste to the Wedding, oh Haste to the Wedding, I love you so.\\nIll take you home again, Kathleen\\nAcross the ocean wild and wide\\nTo where your heart has ever been\\nSince you were first my bonnie bride.\\nThe roses all have left your cheek.\\nIve watched them fade away and die\\nYour voice is sad when eer you speak\\nAnd tears bedim your loving eyes.\\nOh! I will take you back, Kathleen\\nTo where your heart will feel no pain\\nAnd when the fields are fresh and green\\nIll take you to your home again!\\nI know you love me, Kathleen, dear\\nYour heart was ever fond and true.\\nI always feel when you are near\\nThat life holds nothing, dear, but you.\\nThe smiles that once you gave to me\\nI scarcely ever see them now\\nThough many, many times I see\\nA darkning shadow on your brow.\\nTo that dear home beyond the sea\\nMy Kathleen shall again return.\\nAnd when thy old friends welcome thee\\nThy loving heart will cease to yearn.\\nWhere laughs the little silver stream\\nBeside your mothers humble cot\\nAnd brightest rays of sunshine gleam\\nThere all your grief will be forgot.\\nIll tell my ma when I go home\\nThe boys wont leave the girls alone\\nThey pulled my hair, they stole my comb\\nBut thats all right till I go home.\\nShe is handsome, she is pretty\\nShe is the bell of Belfast city\\nShe is counting one, two, three\\nPlease wont you tell me who is she.\\nAlbert Mooney says he loves her\\nAll the boys are fighting for her\\nThey knock at the door and they ring at the bell\\nSayin Oh my true love, are you well?\\nOut she comes as white as snow\\nRings on her fingers and bells on her toes\\nOld John Murray says shell die\\nIf she doesnt get the fellow with the roving eye.\\nLet the wind and rain and the hail blow high\\nAnd the snow come tumblin from the sky\\nShes as nice as apple pie\\nShell get her own lad by and by.\\nWhen she gets a lad of her own\\nShe wont tell her ma when she goes home\\nLet them all come as they will\\nFor its Albert Mooney she loves still.\\nWhile goin the road to sweet Athy, \\nhurroo, hurroo\\nWhile goin the road to sweet Athy\\nA stick in me hand and a drop in me eye\\nA doleful damsel I heard cry,\\nJohnny I hardly knew ye.\\nWith your drums and guns and drums and guns\\nThe enemy nearly slew ye\\nOh my darling dear, Ye look so queer\\nWhere are your eyes that were so mild\\nWhen my heart you so beguiled\\nWhy did ye run from me and the child\\nOh Johnny, I hardly knew ye.\\nWhere are your legs that used to run\\nWhen you went for to carry a gun\\nIndeed your dancing days are done\\nIm happy for to see ye home\\nAll from the island of Sulloon\\nSo low in flesh, so high in bone\\nOh Johnny I hardly knew ye.\\nYe havent an arm, ye havent a leg\\nYere an armless, boneless, chickenless egg\\nYell have to put with a bowl out to beg\\nTheyre rolling out the guns again\\nBut they never will take our sons again\\nNo they never will take our sons again\\nJohnny Im swearing to ye.\\nAs I was a-walkin round Kilgary Mountain\\nI met with Captain Pepper as his money he was countin\\nI rattled my pistols and I drew forth my saber\\nSayin, Stand and deliver, for I am the bold deceiver.\\nMusha rig um du rum da\\nWhack fol the daddy o\\nTheres whiskey in the jar.\\nThe shinin golden coins did look so bright and jolly\\nI took em with me home and I gave em to my Molly\\nShe promised and she vowed that she never would deceive me\\nBut the devils in the women and they never can be easy.\\nWhen I was awakened between six and seven\\nThe guards were all around me in numbers odd and even\\nI flew to my pistols, but alas I was mistaken\\nFor Mollys drawn my pistols and a prisoner I was taken.\\nThey put me into jail without judge or writin\\nFor robbing Colonel Pepper on Kilgary Mountain\\nBut they didnt take my fists so I knocked the sentry down\\nAnd bid a fond farewell to the jail in Sligo town.\\nNow some take delight in fishin and in bowlin\\nAnd others take delight in carriages a-rollin\\nBut I take delight in the juice of the barley\\nAnd courtin pretty girls in the morning so early.\\nOer railroad ties and crossings\\nI made my weary way,\\nThrough swamps and elevations\\nMy tired feet did stray\\nUntil I resolved at sunset\\nSome higher ground to win.\\nTwas there I met with a Creole girl\\nBy the lake of Ponchartrain.\\nGood evening, fair maiden,\\nMy money does me no good.\\nIf it want for the allegators\\nId stay out in the wood.\\nYoure welcome, welcome, stranger.\\nAt home it is quite plain\\nFor we never turn a stranger\\nFrom the lake of Ponchartrain.\\nShe took me to her mothers home\\nAnd she treated me quite well;\\nHer long black hair in ringlets\\nUpon her shoulders fell.\\nI tried to paint her picture\\nBut, alas, it was in vain\\nSo handsome was that Creole girl\\nI asked her if shed marry me\\nShe said that neer could be;\\nShe said she had a lover,\\nAnd he was on the sea,\\nShe said she had a lover\\nIt was true she would remain,\\nUntil he returned for the Creole girl\\nAdieu, adieu, fair maiden,\\nYou neer shall see me more\\nAnd when you are thinking of the old times\\nAnd the cottage by the shore\\nAnd when I meet a sociable\\nWith a glass of the foaming main\\nIll drink good health to the Creole girl\\nn the town of Athy one Jeremy Lanigan\\nBattered away til he hadnt a pound.\\nHis father died and made him a man again\\nLeft him a farm and ten acres of ground.\\nHe gave a grand party for friends and relations\\nWho didnt forget him when come to the wall,\\nAnd if youll but listen Ill make your eyes glisten\\nOf the rows and the ructions of Lanigans Ball.\\nMyself to be sure got free invitation,\\nFor all the nice girls and boys I might ask,\\nAnd just in a minute both friends and relations\\nWere dancing round merry as bees round a cask.\\nJudy ODaly, that nice little milliner,\\nShe tipped me a wink for to give her a call,\\nAnd I soon arrived with Peggy McGilligan\\nJust in time for Lanigans Ball.\\nThere were lashings of punch and wine for the ladies,\\nPotatoes and cakes; there was bacon and tea,\\nThere were the Nolans, Dolans, OGradys\\nCourting the girls and dancing away.\\nSongs they went round as plenty as water,\\nThe harp that once sounded in Taras old hall,\\nSweet Nelly Gray and The Rat Catchers Daughter,\\nAll singing together at Lanigans Ball.\\nThey were doing all kinds of nonsensical polkas\\nAll round the room in a whirligig.\\nJulia and I, we banished their nonsense\\nAnd tipped them the twist of a reel and a jig.\\n&Och mavrone, how the girls got all mad at me\\nDanced til youd think the ceiling would fall.\\nFor I spent three weeks at Brooks Academy\\nLearning new steps for Lanigans Ball.\\nThree long weeks I spent up in Dublin,\\nThree long weeks to learn nothing at all,\\nShe stepped out and I stepped in again,\\nI stepped out and she stepped in again,\\nBoys were all merry and the girls they were hearty\\nAnd danced all around in couples and groups,\\nTil an accident happened, young Terrance McCarthy\\nPut his right leg through miss Finnertys hoops.\\nPoor creature fainted and cried: Meelia murther,\\nCalled for her brothers and gathered them all.\\nCarmody swore that hed go no further\\nTil he had satisfaction at Lanigans Ball.\\nIn the midst of the row miss Kerrigan fainted,\\nHer cheeks at the same time as red as a rose.\\nSome of the lads declared she was painted,\\nShe took a small drop too much, I suppose.\\nHer sweetheart, Ned Morgan, so powerful and able,\\nWhen he saw his fair colleen stretched out by the wall,\\nTore the left leg from under the table\\nAnd smashed all the Chaneys at Lanigans Ball.\\nBoys, oh boys, twas then there were runctions.\\nMyself got a lick from big Phelim McHugh.\\nI soon replied to his introduction\\nAnd kicked up a terrible hullabaloo.\\nOld Casey, the piper, was near being strangled.\\nThey squeezed up his pipes, bellows, chanters and all.\\nThe girls, in their ribbons, they got all entangled\\nAnd that put an end to Lanigans Ball.\\nStep we gaily, on we go\\nHeel for heel and toe for toe,\\nArm in arm and row on row\\nAll for Mairis wedding.\\nOver hillways up and down\\nMyrtle green and bracken brown,\\nPast the sheilings through the town\\nAll for sake of Mairi.\\nRed her cheeks as rowans are\\nBright her eyes as any star,\\nFairest o them all by far\\nIs our darlin Mairi.\\nPlenty herring, plenty meal\\nPlenty peat to fill her creel,\\nPlenty bonny bairns as weel\\nThats the toast for Mairi.\\nI have seen the lark soar high at morn\\nHeard his song up in the blue\\nI have heard the blackbird pipe his note\\nThe thrush and the linnet too\\nBut theres none of them can sing so sweet\\nMy singing bird as you.\\nIf I could lure my singing bird\\nFrom his own cozy nest\\nIf I could catch my singing bird\\nI would warm him on my breast\\nFor theres none of them can sing so sweet\\nOf all the money that eer I spent\\nIve spent it in good company\\nAnd all the harm that ever I did\\nAlas it was to none but me\\nAnd all Ive done for want of wit\\nTo memory now I cant recall\\nSo fill to me the parting glass\\nGood night and joy be with you all\\nIf I had money enough to spend\\nAnd leisure to sit awhile\\nThere is a fair maid in the town\\nThat sorely has my heart beguiled\\nHer rosy cheeks and ruby lips\\nI own she has my heart enthralled\\nOh, all the comrades that eer I had\\nTheyre sorry for my going away\\nAnd all the sweethearts that eer I had\\nTheyd wish me one more day to stay\\nBut since it falls unto my lot\\nThat I should rise and you should not\\nIll gently rise and softly call\\nIt was on a fine summers morning,\\nWhen the birds sweetly tuned on each bough;\\nI heard a fair maid sing most charming\\nAs she sat a-milking her cow;\\nHer voice, it was chanting melodious,\\nShe left me scarce able to go;\\nMy heart it is soothed in solace,\\nMy CailÃ\\xadn deas crÃºite na mbÃ³.\\nWith courtesy I did salute her,\\nGood-morrow, most amiable maid,\\nIm your captive slave for the future.\\nKind sir, do not banter, she said,\\nIm not such a precious rare jewel,\\nThat I should enamour you so;\\nI am but a plain country girl,\\nSays CailÃ\\xadn deas crÃºite na mbÃ³.\\nThe Indies afford no such jewel,\\nSo precious and transparently fair,\\nOh! do not to my flame add fuel,\\nBut consent for to love me, my dear;\\nTake pity and grant my desire,\\nAnd leave me no longer in woe;\\nOh! love me or else Ill expire,\\nSweet CailÃ\\xadn deas crÃºite na mbÃ³.\\nOr had I the wealth of great Damer,\\nOr all on the African shore,\\nOr had I great Devonshire treasure,\\nOr had I ten thousand times more,\\nOr had I the lamp of Alladin,\\nOr had I his genie also,\\nId rather live poor on a mountain,\\nWith CailÃ\\xadn deas crÃºite na mbÃ³.\\nI beg youll withdraw and dont tease me;\\nI cannot consent unto thee.\\nI like to live single and airy,\\nTill more of the world I do see.\\nNew cares they would me embarrass,\\nBesides, sir, my fortune is low,\\nUntil I get rich Ill not marry,\\nAn old maid is like an old almanack,\\nQuite useless when once out of date;\\nIf her ware is not sold in the morning\\nAt noon it must fall to low rate.\\nThe fragrance of May is soon over,\\nThe rose loses its beauty, you know;\\nAll bloom is consumed in October,\\nA young maid is like a ship sailing,\\nTheres no knowing how long she may steer,\\nFor with every blast shes in danger;\\nOh! consent, love, and banish all care.\\nFor riches I care not a farthing,\\nYour affection I want and no more;\\nIn comfort Id wish to enjoy you,\\nRed is the rose that in yonder garden grows\\nFair is the lily of the valley\\nClear is the water that flows from the Boyne\\nBut my love is fairer than any.\\nCome over the hills, my bonnie Irish lass\\nCome over the hills to your darling\\nYou choose the rose, love, and Ill make the vow\\nAnd Ill be your true love forever.\\nTwas down by Killarneys green woods that we strayed\\nWhen the moon and the stars they were shining\\nThe moon shone its rays on her locks of golden hair\\nAnd she swore shed be my love forever.\\nIts not for the parting that my sister pains\\nIts not for the grief of my mother\\nTis all for the loss of my bonny Irish lass\\nThat my heart is breaking forever.\\nIn the merry month of June from me home I started,\\nLeft the girls of Tuam so sad and broken hearted,\\nSaluted father dear, kissed me darling mother,\\nDrank a pint of beer, me grief and tears to smother,\\nThen off to reap the corn, leave where I was born,\\nCut a stout black thorn to banish ghosts and goblins;\\nBought a pair of brogues rattling oer the bogs\\nAnd frightning all the dogs on the rocky road to Dublin.\\nOne, two, three four, five, Hunt the Hare and turn her down the rocky\\nroad and all the way to Dublin, Whack follol de rah !\\nIn Mullingar that night I rested limbs so weary, Started by daylight\\nnext morning blithe and early, Took a drop of pure to keep me heartfrom sinking;\\nThats a Paddys cure whenever hes on drinking. See the lassies smile, laughing\\nall the while At me curious style, twould set your heart a bubblin\\nAsked me was I hired, wages I required, I was almost tired of the\\nrocky road to Dublin.\\nIn Dublin next arrived, I thought it be a pity\\nTo be soon deprived a view of that fine city.\\nSo then I took a stroll, all among the quality;\\nMe bundle it was stole, all in a neat locality.\\nSomething crossed me mind, when I looked behind,\\nNo bundle could I find upon me stick a wobblin\\nEnquiring for the rogue, they said me Connaught brogue\\nWasnt much in vogue on the rocky road to Dublin.\\nFrom there I got away, me spirits never falling,\\nLanded on the quay, just as the ship was sailing.\\nThe Captain at me roared, said that no room had he;\\nWhen I jumped aboard, a cabin found for Paddy.\\nDown among the pigs, played some hearty rigs,\\nDanced some hearty jigs, the water round me bubbling;\\nWhen off Holyhead wished meself was dead,\\nOr better for instead on the rocky road to Dublin.\\nWell the bouys of Liverpool, when we safely landed,\\nCalled meself a fool, I could no longer stand it.\\nBlood began to boil, temper I was losing;\\nPoor old Erins Isle they began abusing.\\nHurrah me soul says I, me Shillelagh I let fly.\\nSome Galway boys were nigh and saw I was a hobble in,\\nWith a load hurray ! joined in the affray.\\nWe quitely cleared the way for the rocky road to Dublin.\\nroad and all the way to Dublin, Whack fol all the Ra !\\nO see the fleet-foot host of men, who march with faces drawn,\\nFrom farmstead and from fishers cot, along the banks of Ban;\\nThey come with vengeance in their eyes. Too late! Too late are they,\\nFor young Roddy McCorley goes to die on the bridge of Toome today.\\nOh Ireland, Mother Ireland, you love them still the best\\nThe fearless brave who fighting fall upon your hapless breast,\\nBut never a one of all your dead more bravely fell in fray,\\nThan he who marches to his fate on the bridge of Toome today.\\nUp the narrow street he stepped, so smiling, proud and young.\\nAbout the hemp-rope on his neck, the golden ringlets clung;\\nTheres neer a tear in his blue eyes, fearless and brave are they,\\nAs young Roddy McCorley goes to die on the bridge of Toome today.\\nWhen last this narrow street he trod, his shining pike in hand\\nBehind him marched, in grim array, a earnest stalwart band.\\nTo Antrim town! To Antrim town, he led them to the fray,\\nBut young Roddy McCorley goes to die on the bridge of Toome today.\\nThe grey coat and its sash of green were brave and stainless then,\\nA banner flashed beneath the sun over the marching men;\\nThe coat hath many a rent this noon, the sash is torn away,\\nAnd Roddy McCorley goes to die on the bridge of Toome today.\\nOh, how his pike flashed in the sun! Then found a foemans heart,\\nThrough furious fight, and heavy odds he bore a true mans part\\nAnd many a red-coat bit the dust before his keen pike-play,\\nBut Roddy McCorley goes to die on the bridge of Toome today.\\nTheres never a one of all your dead more bravely died in fray\\nThan he who marches to his fate in Toomebridge town today;\\nTrue to the last! True to the last, he treads the upwards way,\\nAnd young Roddy McCorley goes to die on the bridge of Toome today.\\nIve traveled all over this world\\nAnd now to another I go\\nAnd I know that good quarters are waiting\\nTo welcome old Rosin the Bow\\nTo welcome old Rosin the Bow.\\nWhen Im dead and laid out on the counter\\nA voice you will hear from below\\nSaying Send down a hogshead of whiskey\\nTo drink with old Rosin the Bow\\nTo drink with old Rosin the Bow.\\nThen get a half dozen stout fellows\\nAnd stack them all up in a row\\nLet them drink out of half gallon bottles\\nTo the memory of Rosin the Bow\\nTo the memory of Rosin the Bow.\\nThen get this half dozen stout fellows\\nAnd let them all stagger and go\\nAnd dig a great hole in the meadow\\nAnd in it put Rosin the Bow\\nAnd in it put Rosin the Bow.\\nThen get ye a couple of bottles\\nPut one at me head and me toe\\nWith a diamond ring scratch upon them\\nThe name of old Rosin the Bow\\nThe name of old Rosin the Bow.\\nIve only this one consolation\\nAs out of this world I go\\nI know that the next generation\\nWill resemble old Rosin the Bow\\nWill resemble old Rosin the Bow.\\nI fear that old tyrant approaching\\nThat cruel remorseless old foe\\nAnd I lift up me glass in his honor\\nTake a drink with old Rosin the Bow\\nTake a drink with old Rosin the Bow.\\nHe was stranded in a tiny town on fair Prince Edward Isle\\nWaiting for a ship to come and find him\\nA one horse place, a friendly face, some coffee and a tiny trace\\nOf fiddlin in the distance far behind him\\nA dime across the counter then, a shy hello, a brand new friend\\nA walk along the street in the wintry weather\\nA yellow light, an open door, and a Welcome friend, theres room for more\\nAnd then theyre standing there inside together\\nHe said, Ive heard that tune before somewhere but I cant remember when,\\nWas it on some other friendly shore, did I hear it on the wind\\nWas it written on the sky above, I think I heard it from someone I love\\nBut I never heard a sound so sweet since then\\nAnd now his feet begin to tap, a little boy says, Ill take your hat.\\nHes caught up in the magic of her smile\\nLeap, the heart inside him went, and off across the floor he sent\\nHis clumsy body, graceful as a child\\nHe said, Theres magic in the fiddlers arms and theres magic in this town\\nTheres magic in the dancers feet and the way they put them down\\nPeople smiling everywhere, boots and ribbons, locks of hair\\nLaughtcr, old blue suits and Easter gowns\\nThe sailors gone, the room is bare, the old pianos setting there\\nSomeones hats left hanging on the rack\\nThe empty chair, the wooden floor that feels the touch of shoes no more\\nAwaitin for the dancers to come back\\nAnd thc fiddles in the closet of some daughter of the town\\nThe strings are broke, tbe bow is gone and the covers buttoned down\\nBut sometimes on December nights, when the air is cold and the wind is right\\nTheres a melody that passes through the town.\\nMy young love said to me, My mother wont mind\\nAnd my father wont slight you for your lack of kind.\\nAnd she stepped away from me and this she did say\\nIt will not be long, love, till our wedding day.\\nAs she stepped away from me and she moved through the fair\\nAnd fondly I watched her move here and move there\\nAnd then she turned homeward with one star awake\\nLike the swan in the evening moves over the lake.\\nThe people were saying, no two eer were wed\\nBut one had a sorrow that never was said\\nAnd I smiled as she passed with her goods and her gear\\nAnd that was the last that I saw of my dear.\\nLast night she came to me, my dead love came in\\nSo softly she came that her feet made no din\\nAs she laid her hand on me and this she did say:\\nIt will not be long, love, til our wedding day.\\nOh father dear, I oft-times hear you speak of Erins isle\\nHer lofty hills, her valleys green, her mountains rude and wild\\nThey say she is a lovely land wherein a saint might dwell\\nSo why did you abandon her, the reason to me tell.\\nOh son, I loved my native land with energy and pride\\nTill a blight came oer the praties; my sheep, my cattle died\\nMy rent and taxes went unpaid, I could not them redeem\\nAnd thats the cruel reason why I left old Skibbereen.\\nOh well do I remember that bleak December day\\nThe landlord and the sheriff came to take us all away\\nThey set my roof on fire with their cursed English spleen\\nI heaved a sigh and bade goodbye to dear old Skibbereen.\\nYour mother too, God rest her soul, fell on the stony ground\\nShe fainted in her anguish seeing desolation round\\nShe never rose but passed away from life to immortal dream\\nShe found a quiet grave, me boy, in dear old Skibbereen.\\nAnd you were only two years old and feeble was your frame\\nI could not leave you with my friends for you bore your fathers name\\nI wrapped you in my cï¿½ta mï¿½r in the dead of night unseen\\nOh father dear, the day will come when in answer to the call\\nAll Irish men of freedom stern will rally one and all\\nIll be the man to lead the band beneath the flag of green\\nAnd loud and clear well raise the cheer, Revenge for Skibbereen!\\nBe thou my vision, O Lord of my heart\\nNaught be all else to me save that thou art\\nThou my best thought by day or by night\\nWaking or sleeping thy presence my light.\\nBe thou my wisdom, thou my true word\\nI ever with thee, thou with me, Lord\\nThou my great Father, I thy true Son\\nThou in me dwelling, and I with thee one.\\nBe thou my battleshield, sword for the fight\\nBe thou my dignity, thou my delight\\nThou my souls shelter, thou my high tower\\nRaise thou me heavenward, O power of my power.\\nRiches I heed not, nor mans empty praise\\nThou mine inheritance, now and always\\nThou and thou only, first in my heart\\nHigh King of heavem, my treasure thou art.\\nHigh King of heaven, after victory won\\nMay I reach heavens joys, O bright heavens sun\\nHeart of my own heart, whatever befall\\nStill be my vision, O ruler of all.\\nLast night as I lay dreaming of pleasant days gone by\\nMy mind being bent on rambling to Ireland I did fly\\nI stepped on board a vision and I followed with the wind\\nAnd I shortly came to anchor at the cross of Spancil Hill\\nIt being the 23rd June the day before the fair\\nWhen lrelands sons and daughters in crowds assembled there\\nThe young and the old, the brave and the bold their journey to fulfill\\nThere were jovial conversations at the fair of Spancil Hill\\nI went to see my neighbors to hear what they might say\\nThe old ones were all dead and gone and the young ones turning grey\\nI met with the tailor Quigley, hes a bould as ever still\\nSure he used to make my britches when I lived in Spancil Hill\\nI paid a flying visit to my first and only love\\nShes as white as any lily and as gentle as a dove\\nShe threw her arms around me saying Johnny I love you still\\nOh shes Ned the farmers daughter and the flower of Spancil HiII\\nI dreamt I held and kissed her as in the days of yore\\nShe said, Johnny youre only joking like manys the time before\\nThe cock he crew in the morning he crew both loud and shrill\\nAnd I awoke in California, many miles from Spancil Hill.\\nNear Banbridge town, in the County Down\\nOne morning in July\\nDown a boreen green came a sweet colleen\\nAnd she smiled as she passed me by.\\nShe looked so sweet from her two white feet\\nTo the sheen of her nut-brown hair\\nSuch a coaxing elf, Id to shake myself\\nTo make sure I was standing there.\\nFrom Bantry Bay up to Derry Quay\\nAnd from Galway to Dublin town\\nNo maid Ive seen like the sweet colleen\\nThat I met in the County Down.\\nAs she onward sped I shook my head\\nAnd I gazed with a feeling rare\\nAnd I said, says I, to a passerby\\nWhos the maid with the nut-brown hair?\\nHe smiled at me, and with pride says he,\\nThats the gem of Irelands crown.\\nShes young Rosie McCann from the banks of the Bann\\nShes the star of the County Down.\\nIve travelled a bit, but never was hit\\nSince my roving career began\\nBut fair and square I surrendered there\\nTo the charms of young Rose McCann.\\nId a heart to let and no tenant yet\\nDid I meet with in shawl or gown\\nBut in she went and I asked no rent\\nFrom the star of the County Down.\\nAt the crossroads fair Ill be surely there\\nAnd Ill dress in my Sunday clothes\\nAnd Ill try sheeps eyes, and deludhering lies\\nOn the heart of the nut-brown rose.\\nNo pipe Ill smoke, no horse Ill yoke\\nThough with rust my plow turns brown\\nTill a smiling bride by my own fireside\\nSits the star of the County Down.\\nIt was early, early in the spring\\nThe birds did whistle and sweetly sing\\nChanging their notes from tree to tree\\nAnd the song they sang was Old Ireland free.\\nIt was early early in the night,\\nThe yeoman cavalry gave me a fright\\nThe yeoman cavalry was my downfall\\nAnd I was taken by Lord Cornwall.\\nTwas in the guard-house where I was laid,\\nAnd in a parlour where I was tried\\nMy sentence passed and my courage low\\nWhen to Dungannon I was forced to go.\\nAs I was passing my fathers door\\nMy brother William stood at the door\\nMy aged father stood at the door\\nAnd my tender mother her hair she tore.\\nAs I was going up Wexford Street\\nMy own first cousin I chanced to meet;\\nMy own first cousin did me betray\\nAnd for one bare guinea swore my life away.\\nAs I was walking up Wexford Hill\\nWho could blame me to cry my fill?\\nI looked behind, and I looked before\\nBut my aged mother I shall see no more.\\nAnd as I mounted the platform high\\nMy aged father was standing by;\\nMy aged father did me deny\\nAnd the name he gave me was the Croppy Boy.\\nIt was in Dungannon this young man died\\nAnd in Dungannon his body lies.\\nAnd you good people that do pass by\\nOh shed a tear for the Croppy Boy.\\nOne morning early I walked forth\\nBy the margin of Lough Leane\\nThe sunshine dressed the trees in green\\nAnd summer bloomed again\\nI left the town and wandered on\\nThrough fields all green and gay\\nAnd whom should I meet but a colleen sweet\\nAt the dawning of the day.\\nNo cap or cloak this maiden wore\\nHer neck and feet were bare\\nDown to the grass in ringlets fell\\nHer glossy golden hair\\nA milking pail was in her hand\\nShe was lovely, young and gay\\nShe wore the palm from Venus bright\\nBy the dawning of the day.\\nOn a mossy bank I sat me down\\nWith the maiden by my side\\nWith gentle words I courted her\\nAnd asked her to be my bride\\nShe said, Young man dont bring me blame\\nAnd swiftly turned away\\nAnd the morning light was shining bright\\nBy a lonely prison wall\\nI heard a sweet voice calling,\\nDanny, they have taken you away.\\nFor you stole Travelians corn,\\nThat your babes might see the morn,\\nNow a prison ship lies waiting in the bay.\\nFair lie the fields of Athenry\\nWhere once we watched the small freebirds fly.\\nOur love grew with the spring,\\nWe had dreams and songs to sing\\nAs we wandered through the fields of Athenry.\\nI heard a young man calling\\nNothing matters, Jenny, when youre free\\nAgainst the famine and the crown,\\nI rebelled, they ran me down,\\nNow you must raise our children without me.\\nOn the windswept harbour wall,\\nShe watched the last star rising\\nAs the prison ship sailed out across the sky\\nBut shell watch and hope and pray,\\nFor her love in Botany Bay\\nWhilst she is lonely in the fields of Athenry.\\nOh, a wan cloud was drawn oer the dim weeping dawn\\nAs to Shannons side I returnd at last\\nAnd the heart in my breast for the girl I lovd best\\nWas beating, ah, beating, loud and fast!\\nWhile the doubts and the fears of the long aching years\\nSeemd mingling their voices with the moaning flood\\nTill full in my path, like a wild water wrath\\nMy true loves shadow lamenting stood.\\nBut the sudden sun kissd the cold, cruel mist\\nInto dancing showrs of diamond dew\\nAnd the dark flowing stream laughd back to his beam\\nAnd the lark soared aloft in the blue\\nWhile no phantom of night but a form of delight\\nRan with arms outspread to her darling boy\\nAnd the girl I love best on my wild throbbing breast\\nHid her thousand treasures with cry of joy.\\nGather up the pots and the old tin cans\\nThe mash, the corn, the barley and the bran.\\nRun like the devil from the excise man\\nKeep the smoke from rising, Barney.\\nKeep your eyes well peeled today\\nThe excise men are on their way\\nSearching for the mountain tay\\nIn the hills of Connemara.\\nSwinging to the left, swinging to the right\\nThe excise men will dance all night\\nDrinkin up the tay till the broad daylight\\nA gallon for the butcher and a quart for John\\nAnd a bottle for poor old Father Tom\\nJust to help the poor old dear along\\nStand your ground, for its too late\\nThe excise men are at the gate.\\nGlory be to Paddy, but theyre drinkin it straight\\nIm sitting on the stile, Mary, where we once sat side by side\\nOn a bright May morning long ago, when first you were my bride\\nThe corn was springing fresh and green, and the lark sang loud and high\\nAnd the red was on your lips, Mary, and the love light in your eyes.\\nTis but a step down yonder lane, the village Church stands near\\nThe place where we were wed, Mary, I can see the spire from here\\nBut the graveyard lies between, Mary, and my step might break your rest\\nWhere I laid you darling down to sleep with a baby on your breast.\\nIm very lonely now, Mary, for the poor make no new friends\\nBut oh they love the better still the few our Father sends\\nFor you were all I had, Mary, my blessing and my pride\\nAnd Ive nothing left to care for now since my poor Mary died.\\nYours was the good brave heart, Mary, that still kept hoping on\\nWhen the trust in God had left my soul and my arms young strength had gone\\nThere was comfort ever on your lip and a kind look on your brow\\nAnd I thank you Mary for the same though you cannot hear me now.\\nIm bidding you a long farewell, my Mary kind and true\\nBut Ill not forget you, darling, in the land Im going to\\nThey say theres bread and work for all, and the sun shines always there\\nBut Ill neer forget old Ireland, were it fifty times as fair.\\nAnd often in those grand old woods Ill sit and shut my eyes\\nAnd my heart will wander back again to the place where Mary lies\\nAnd I think Ill see that little stile where we sat side by side\\nIn the springing corn and the bright May morn when first you were my bride.\\nWhen I was at home I was merry and frisky,\\nMy dad kept a pig and my mother sold whisky,\\nMy uncle was rich, but never would by aisey\\nTill I was enlisted by Corporal Casey.\\nOch! rub a dub, row de dow, Corporal Casey,\\nMy dear little Shelah, I thought would run crazy,\\nWhen I trudged away with tough Corporal Casey.\\nI marched from Kilkenny, and, as I was thinking\\nOn Shelah, my heart in my bosom was sinking,\\nBut soon I was forced to look fresh as a daisy,\\nFor fear of a drubbing from Corporal Casey.\\nOch! rub a dub, row de dow, Corporal Casey!\\nThe devil go with him, I neer could be lazy,\\nHe struck my shirts so, ould Corporal Casey.\\nWe went into battle, I took the blows fairly\\nThat fell on my pate, but they bothered me rarely,\\nAnd who should the first be that dropped, why, and please ye,\\nIt was my good friend, honest Corporal Casey.\\nThinks I you are quiet, and I shall be aisey,\\nSo eight years I fought without Corporal Casey.\\nI am a little beggarman, a begging I have been\\nFor three score years in this little isle of green\\nIm known along the Liffey from the Basin to the Zoo\\nAnd everybody calls me by the name of Johnny Dhu.\\nOf all the trades a going, sure the begging is the best\\nFor when a man is tired he can sit him down and rest\\nHe can beg for his dinner, he has nothing else to do\\nBut to slip around the corner with his old rigadoo.\\nI slept in a barn one night in Currabawn\\nA shocking wet night it was, but I slept until the dawn\\nThere was holes in the roof and the raindrops coming thru\\nAnd the rats and the cats were a playing peek a boo.\\nWho did I waken but the woman of the house\\nWith her white spotted apron and her calico blouse\\nShe began to frighten and I said boo\\nSure, dont be afraid at all, its only Johnny Dhu.\\nI met a little girl while a walkin out one day\\nGood morrow little flaxen haired girl, I did say\\nGood morrow little beggarman and how do you do\\nWith your rags and your tags and your auld rigadoo.\\nIll buy a pair of leggins and a collar and a tie\\nAnd a nice young lady Ill go courting by and by\\nIll buy a pair of goggles and Ill color them with blue\\nAnd an old fashioned lady I will make her too.\\nSo all along the high road with my bag upon my back\\nOver the fields with my bulging heavy sack\\nWith holes in my shoes and my toes a peeping thru\\nSinging, skin a ma rink a doodle with my auld rigadoo.\\nO I must be going to bed for its getting late at night\\nThe fire is all raked and now tis out of light\\nFor now youve heard the story of my auld rigadoo\\nSo good and God be with you, from auld Johnny Dhu.\\nOh, the days of the Kerry dancing\\nOh, the ring of the pipers tune\\nOh, for one of those hours of gladness\\nGone, alas, like our youth, too soon!\\nWhen the boys began to gather\\nIn the glen of a summers night\\nAnd the Kerry pipers tuning\\nMade us long with wild delight!\\nOh, to think of it\\nOh, to dream of it\\nFills my heart with tears!\\nWas there ever a sweeter Colleen\\nIn the dance than Eily More\\nOr a prouder lad than Thady\\nAs he boldly took the floor.\\nLads and lasses to your places\\nUp the middle and down again\\nAh, the merry hearted laughter\\nRinging through the happy glen!\\nTime goes on, and the happy years are dead\\nAnd one by one the merry hearts are fled\\nSilent now is the wild and lonely glen\\nWhere the bright glad laugh will echo neer again\\nOnly dreaming of days gone by in my heart I hear.\\nLoving voices of old companions\\nStealing out of the past once more\\nAnd the sound of the dear old music\\nSoft and sweet as in days of yore.\\nDear thoughts are in my mind\\nAnd my soul soars enchanted,\\nAs I hear the sweet lark sing\\nIn the clear air of the day.\\nFor a tender beaming smile\\nTo my hope has been granted,\\nAnd tomorrow she shall hear\\nAll my fond heart would say.\\nI shall tell her all my love,\\nAll my souls adoration,\\nAnd I think she will hear\\nAnd will not say me nay.\\nIt is this that gives my soul\\nAll its joyous elation,\\nIts cold and raw, the north winds blow\\nBlack in the morning early\\nWhen all the hills were covered with snow\\nOh then it was winter fairly.\\nAs I was riding oer the moor\\nI met a farmers daughter\\nHer cherry cheeks and coal-black hair\\nThey caused my heart to falter.\\nI bowed my bonnet very low\\nTo let her know my meaning.\\nShe answered with a courteous smile\\nHer looks they were engaging.\\nWhere are you bound my pretty maid\\nIts now in the morning early?\\nThe answer that she gave to me\\nKind sir, to sell my barley.\\nNow twenty guineas Ive in my purse\\nAnd twenty more thats yearly.\\nYou need not go to the market town\\nFor Ill buy all your barley.\\nIf twenty guineas would gain the heart\\nOf the maid I love so dearly\\nAll for to tarry with me one night\\nAnd go home in the morning early.\\nThe very evening after\\nIt was my fortune for to meet\\nThe farmers only daughter.\\nAlthough the weather being cold and raw\\nWith her I thought to parlay\\nThe answer that she gave to me:\\nKind sir, Ive sold my barley.\\nThe Minstrel Boy to the war is gone\\nIn the ranks of death you will find him\\nHis fathers sword he hath girded on\\nAnd his wild harp slung behind him\\nLand of Song! said the warrior bard\\nTho all the world betrays thee\\nOne sword, at least, thy rights shall guard\\nOne faithful harp shall praise thee!\\nThe Minstrel fell! But the foemans chain\\nCould not bring that proud soul under\\nThe harp he lovd neer spoke again\\nFor he tore its chords asunder\\nAnd said No chains shall sully thee\\nThou soul of love and bravry!\\nThy songs were made for the pure and free,\\nThey shall never sound in slavery!\\nOh Mary this Londons a wonderful sight\\nWith people here workin by day and by night\\nThey dont sow potatoes, nor barley, nor wheat\\nBut theres gangs of them diggin for gold in the street\\nAt least when I asked them thats what I was told\\nSo I just took a hand at this diggin for gold\\nBut for all that I found there I might as well be\\nWhere the Mountains of Mourne sweep down to the sea.\\nI believe that when writin a wish you expressed\\nAs to how the fine ladies in London were dressed\\nWell if youll believe me, when asked to a ball\\nThey dont wear no top to their dresses at all\\nOh Ive seen them meself and you could not in truth\\nSay that if they were bound for a ball or a bath\\nDont be startin them fashions, now Mary McCree\\nTheres beautiful girls here, oh never you mind\\nWith beautiful shapes nature never designed\\nAnd lovely complexions all roses and cream\\nBut let me remark with regard to the same\\nThat if that those roses you venture to sip\\nThe colors might all come away on your lip\\nSo Ill wait for the wild rose thats waitin for me\\nIn the place where the dark Mourne sweeps down to the sea.\\nBeauing, belling, dancing, drinking,\\nBreaking windows, cursing, sinking\\nEvery raking, never thinking,\\nLive the Rakes of Mallow,\\nSpending faster than it comes,\\nBeating waiters bailiffs, duns,\\nBacchus true begotten sons,\\nLive the Rakes of Mallow.\\nOne time naught but claret drinking,\\nThen like politicians, thinking\\nTo raise the sinking funds when sinking.\\nWhen at home, with da-da dying,\\nStill for mellow water crying,\\nBut, where theres good claret plying\\nLive the Rakes of Mallow.  \\nWhen at home with dadda dying,\\nStill for Mallow-water crying,\\nBut where there is good claret plying\\nLiving short but merry lives,\\nGoing where the devil drives,\\nHaving sweethearts, but no wives,\\nRacking tenants stewards teasing,\\nSwiftly spending, slowly raising,\\nWishing to spend all their days in\\nRaking as at Mallow.\\nThen to end this raking life,\\nThey get sober, take a wife,\\nEver after live in strife,\\nAnd wish again for Mallow.\\nHow sweet is to roam by the sunny Shure stream\\nAnd hear the doves coo neath the morning sunbeam\\nWhere the thrush and the robin their sweet notes entwine\\nOn the banks of the Shure that flows down by Mooncoin.\\nFlow on, lovely river, flow gently along\\nBy your waters so sweet sounds the larks merry song\\nOn your green banks I wander where first I did join\\nWith you, lovely Molly, the rose of Mooncoin.\\nOh Molly, dear Molly, it breaks my fond heart\\nTo know that we two forever must part\\nIll think of you Molly while sun and moon shine\\nThen heres to the Shure with its valley so fair\\nAs oftimes we wandered in the cool morning air\\nWhere the roses are blooming and lilies entwine\\nThe pale moon was rising above the green mountain\\nThe sun was declining beneath the blue sea\\nWhen I strayed with my love to the pure crystal fountain\\nThat stands in beautiful vale of Tralee.\\nShe was lovely and fair as the rose of the summer\\nYet, twas not her beauty alone that won me\\nOh no! Twas the the truth in her eye ever beaming\\nThat made me love Mary, the Rose of Tralee.\\nThe cool shades of evening their mantle were spreading\\nAnd Mary all smiling was listening to me\\nThe moon through the valley her pale rays was shedding\\nWhen I won the heart of the Rose of Tralee.\\nThough lovely and fair as the rose of the summer\\nMellow the moonlight to shine is beginning\\nClose by the window young Eileen is spinning\\nBent oer the fire her blind grandmother sitting\\nCrooning and moaning and drowsily knitting.\\nMerrily cheerily noiselessly whirring\\nSpins the wheel, rings the wheel while the foots stirring\\nSprightly and lightly and merrily ringing\\nSounds the sweet voice of the young maiden singing.\\nEileen, a chara, I hear someone tapping\\nTis the ivy dear mother against the glass flapping\\nEileen, I surely hear somebody sighing\\nTis the sound mother dear of the autumn winds dying.\\nWhats the noise I hear at the window I wonder?\\nTis the little birds chirping, the holly-bush under\\nWhat makes you shoving and moving your stool on\\nAnd singing all wrong the old song of the Coolin?\\nTheres a form at the casement, the form of her true love\\nAnd he whispers with face bent, Im waiting for you love\\nGet up from the stool, through the lattice step lightly\\nAnd well rove in the grove while the moons shining brightly.\\nThe maid shakes her head, on her lips lays her fingers\\nSteps up from the stool, longs to go and yet lingers\\nA frightened glance turns to her drowsy grandmother\\nPuts her foot on the stool spins the wheel with the other\\nLazily, easily, now swings the wheel round\\nSlowly and lowly is heard now the reels sound\\nNoiseless and light to the lattice above her\\nThe maid steps, then leaps to the arms of her lover.\\nSlower... and slower... and slower the wheel swings\\nLower... and lower... and lower the reel rings\\nEre the reel and the wheel stop their ringing and moving\\nThrough the grove the young lovers by moonlight are roving.\\nAs I roved out one morning\\nNear the verdant braes of Skreen\\nI put my back to the mossy tree\\nTo view the dew on the West Countrie\\nThe dew on the foreign strand.\\nO sit ye down on the grass, he said\\nOn the dewy grass so green\\nFor the wee birds all have come and gone\\nSince I my true love seen, he said\\nSince I my true love seen.\\nO Ill not sit on the grass, she said\\nNo lover Ill be of thine\\nFor I hear you love a Connaught maid\\nAnd your hearts no longer mine, she said\\nAnd your hearts no longer mine.\\nO I will climb a high high tree\\nAnd Ill rob a wild birds nest\\nAnd back Ill bring what I find there\\nTo the arms that I love best, he said\\nTo the arms that I love best.\\nThe water is wide, I cannot get oer\\nNeither have I wings to fly\\nGive me a boat that can carry two\\nAnd both shall row, my love and I\\nA ship there is and she sails the sea\\nShes loaded deep as deep can be\\nBut not so deep as the love Im in\\nI know not if I sink or swim\\nI leaned my back against an oak\\nThinking it was a trusty tree\\nBut first it bent and then it broke\\nSo did my love prove false to me\\nI reached my finger into some soft bush\\nThinking the fairest flower to find\\nI pricked my finger to the bone\\nAnd left the fairest flower behind\\nOh love be handsome and love be kind\\nGay as a jewel when first it is new\\nBut love grows old and waxes cold\\nAnd fades away like the morning dew\\nMust I go bound while you go free\\nMust I love a man who doesnt love me\\nMust I be born with so little art\\nAs to love a man wholl break my heart\\nWhen cockle shells turn silver bells\\nThen will my love come back to me\\nWhen roses bloom in winters gloom\\nThen will my love return to me\\nO Paddy dear, and did ye hear the news thats goin round?\\nThe shamrock is by law forbid to grow on Irish ground!\\nNo more Saint Patricks Day well keep, his color cant be seen\\nFor theres a cruel law agin the Wearin o the Green.\\nI met with Napper Tandy, and he took me by the hand\\nAnd he said, Hows poor old Ireland, and how does she stand?\\nShes the most distressful country that ever yet was seen\\nFor theyre hanging men and women there for the Wearin o the Green.\\nSo if the color we must wear be Englands cruel red\\nLet it remind us of the blood that Irishmen have shed\\nAnd pull the shamrock from your hat, and throw it on the sod\\nBut never fear, twill take root there, though underfoot tis trod.\\nWhen laws can stop the blades of grass from growin as they grow\\nAnd when the leaves in summer-time their color dare not show\\nThen I will change the color too I wear in my caubeen\\nBut till that day, please God, Ill stick to the Wearin o the Green.\\nIve been a wild rover for many a year\\nAnd I spent all my money on whiskey and beer,\\nAnd now Im returning with gold in great store\\nAnd I never will play the wild rover no more.\\nAnd its no, nay, never,\\nNo nay never no more,\\nWill I play the wild rover\\nNo never no more.\\nI went to an ale-house I used to frequent\\nAnd I told the landlady my money was spent.\\nI asked her for credit, she answered me nay\\nSuch a custom as yours I could have any day.\\nI took from my pocket ten sovereigns bright\\nAnd the landladys eyes opened wide with delight.\\nShe said I have whiskey and wines of the best\\nAnd the words that I spoke sure were only in jest.\\nIll go home to my parents, confess what Ive done\\nAnd Ill ask them to pardon their prodigal son.\\nAnd if they caress (forgive) me as ofttimes before\\nSure I never will play the wild rover no more.\\nTheres a tear in your eye,\\nAnd Im wondering why,\\nFor it never should be there at all.\\nWith such powr in your smile,\\nSure a stone youd beguile,\\nSo theres never a teardrop should fall.\\nWhen your sweet lilting laughters\\nLike some fairy song,\\nAnd your eyes twinkle bright as can be;\\nYou should laugh all the while\\nAnd all other times smile,\\nAnd now, smile a smile for me.\\nWhen Irish eyes are smiling,\\nSure, tis like the morn in Spring.\\nIn the lilt of Irish laughter\\nYou can hear the angels sing.\\nWhen Irish hearts are happy,\\nAll the world seems bright and gay.\\nAnd when Irish eyes are smiling,\\nSure, they steal your heart away.\\nFor your smile is a part\\nOf the love in your heart,\\nAnd it makes even sunshine more bright.\\nLike the linnets sweet song,\\nCrooning all the day long,\\nComes your laughter and light.\\nFor the springtime of life\\nIs the sweetest of all\\nThere is neer a real care or regret;\\nAnd while springtime is ours\\nThroughout all of youths hours,\\nLet us smile each chance we get.\\nAs I was a-goin over Gilgarra Mountain\\nI spied Colonel Farrell, and his money he was countin.\\nFirst I drew my pistols and then I drew my rapier,\\nSayin Stand and deliver, for I am your bold receiver.\\nMusha ringum duram da,\\nWhack fol the daddy-o,\\nHe counted out his money and it made a pretty penny;\\nI put it in my pocket to take home to darlin Jenny.\\nShe sighed and swore she loved me and never would deceive me,\\nBu the devil take the women, for they always lie so easy!\\nMusha rungum duram da\\nI went into me chamber all for to take a slumber,\\nTo dream of gold and girls, and of course it was no wonder:\\nMe Jenny took me charges and she filled them up with water,\\nCalled on Colonel Farrell to get ready for the slaughter.\\nNext mornin early, before I rose for travel,\\nA-came a band of footmen and likewise Colonel Farrell.\\nI goes to draw my pistol, for shed stole away my rapier,\\nBut a prisoner I was taken, I couldnt shoot the water.\\nThey put me into jail with a judge all a-writin:\\nFor robbin Colonel Farrell on Gilgarra Mountain.\\nBut they didnt take me fists and I knocked the jailer down\\nAnd bid a farewell to this tight-fisted town.\\nMusha ringum duram da\\nId like to find me brother, the one whos in the army;\\nI dont know where hes stationed, be it Cork or in Killarney.\\nTogether wed go roamin oer the mountains of Kilkenny,\\nAnd I swear hed treat me fairer than my darlin sportin Jenny!\\nTheres some takes delight in the carriages and rollin,\\nSome takes delight in the hurley or the bollin,\\nBut I takes delight in the juice of the barley,\\nCourtin pretty maids in the mornin, o so early!\\nOh the summertime is coming\\nAnd the trees are sweetly blooming\\nAnd the wild mountain thyme\\nGrows around the blooming heather\\nWill ye go, Lassie go?\\nAnd well all go together\\nTo pluck wild mountain thyme\\nAll around the blooming heather\\nI will build my love a tower\\nNear yon pure crystal fountain\\nAnd on it I will build\\nAll the flowers of the mountain\\nIf my true love she were gone\\nI would surely find another\\nWhere wild mountain thyme'"
            ]
          },
          "metadata": {
            "tags": []
          },
          "execution_count": 4
        }
      ]
    },
    {
      "cell_type": "code",
      "metadata": {
        "id": "mcqjoaSAMnzZ"
      },
      "source": [
        "import spacy\n",
        "nlp=spacy.load('en')\n"
      ],
      "execution_count": 5,
      "outputs": []
    },
    {
      "cell_type": "code",
      "metadata": {
        "id": "r8nT8kMSOqIg"
      },
      "source": [
        "#stopwords.words('english')"
      ],
      "execution_count": null,
      "outputs": []
    },
    {
      "cell_type": "code",
      "metadata": {
        "id": "ceNniENoM0vQ"
      },
      "source": [
        "#file=nlp('/content/laurencepoem.txt')"
      ],
      "execution_count": 23,
      "outputs": []
    },
    {
      "cell_type": "code",
      "metadata": {
        "id": "eohpZhF5M_1g"
      },
      "source": [
        "def seperate(doc):\n",
        "  return [token.text for token in nlp(doc) if token.text not in ' \\n\\n \\n\\n\\n!\"-#$%&()--.*+,-/:;<=>?@[\\\\]^_`{|}~\\t\\n ' ]  \n"
      ],
      "execution_count": 6,
      "outputs": []
    },
    {
      "cell_type": "code",
      "metadata": {
        "id": "oCNmsBC1Qes1"
      },
      "source": [
        ""
      ],
      "execution_count": 229,
      "outputs": []
    },
    {
      "cell_type": "code",
      "metadata": {
        "id": "UuKNhgMVDqx9"
      },
      "source": [
        "words=seperate(file)"
      ],
      "execution_count": 7,
      "outputs": []
    },
    {
      "cell_type": "code",
      "metadata": {
        "id": "DMzml6mxPHBO"
      },
      "source": [
        ""
      ],
      "execution_count": null,
      "outputs": []
    },
    {
      "cell_type": "code",
      "metadata": {
        "id": "dxUpzBkXPUdT"
      },
      "source": [
        "train_length=30\n",
        "processed_text_sequence=[]\n",
        "for i in range(train_length,len(words)):\n",
        "  seq=words[i-30:i]\n",
        "  processed_text_sequence.append(seq)"
      ],
      "execution_count": 8,
      "outputs": []
    },
    {
      "cell_type": "code",
      "metadata": {
        "colab": {
          "base_uri": "https://localhost:8080/",
          "height": 52
        },
        "id": "ToIDbFi-P1B-",
        "outputId": "e52fe2bb-eeb8-4ebf-dec2-f263ca40c508"
      },
      "source": [
        "' '.join(processed_text_sequence[0])"
      ],
      "execution_count": 9,
      "outputs": [
        {
          "output_type": "execute_result",
          "data": {
            "application/vnd.google.colaboratory.intrinsic+json": {
              "type": "string"
            },
            "text/plain": [
              "'Come all ye maidens young and fair And you that are blooming in your prime Always beware and keep your garden fair Let no man steal away your thyme For'"
            ]
          },
          "metadata": {
            "tags": []
          },
          "execution_count": 9
        }
      ]
    },
    {
      "cell_type": "code",
      "metadata": {
        "id": "KXdExho4DJHu"
      },
      "source": [
        "import tensorflow as tf\n",
        "import numpy as np "
      ],
      "execution_count": 10,
      "outputs": []
    },
    {
      "cell_type": "code",
      "metadata": {
        "id": "19IuwWuqD3-A"
      },
      "source": [
        "from tensorflow.keras.preprocessing.text import Tokenizer\n",
        "from tensorflow.keras.preprocessing.sequence import pad_sequences"
      ],
      "execution_count": 11,
      "outputs": []
    },
    {
      "cell_type": "code",
      "metadata": {
        "id": "ayi1fLi7EM73"
      },
      "source": [
        "Tknizer=Tokenizer(oov_token='<OOV>')\n"
      ],
      "execution_count": 12,
      "outputs": []
    },
    {
      "cell_type": "code",
      "metadata": {
        "id": "AzICfvIuFeu9"
      },
      "source": [
        "Tknizer.fit_on_texts(processed_text_sequence)\n",
        "sequences=Tknizer.texts_to_sequences(processed_text_sequence)"
      ],
      "execution_count": 13,
      "outputs": []
    },
    {
      "cell_type": "code",
      "metadata": {
        "id": "ZOAYCOcGRhzd"
      },
      "source": [
        "sequences=np.array(sequences)"
      ],
      "execution_count": 14,
      "outputs": []
    },
    {
      "cell_type": "code",
      "metadata": {
        "colab": {
          "base_uri": "https://localhost:8080/"
        },
        "id": "ux6SAc2jRkUE",
        "outputId": "8a01ba93-7022-4e04-cddd-b5fe65cfcc20"
      },
      "source": [
        "sequences.shape"
      ],
      "execution_count": 15,
      "outputs": [
        {
          "output_type": "execute_result",
          "data": {
            "text/plain": [
              "(13893, 30)"
            ]
          },
          "metadata": {
            "tags": []
          },
          "execution_count": 15
        }
      ]
    },
    {
      "cell_type": "code",
      "metadata": {
        "colab": {
          "base_uri": "https://localhost:8080/"
        },
        "id": "h9QMYbf4Ryfz",
        "outputId": "73bf8e86-9257-4056-9af3-8d08592c87e3"
      },
      "source": [
        "sequences"
      ],
      "execution_count": 16,
      "outputs": [
        {
          "output_type": "execute_result",
          "data": {
            "text/plain": [
              "array([[  56,   13,  107, ...,   25,  233,   12],\n",
              "       [  13,  107, 2669, ...,  233,   12,  233],\n",
              "       [ 107, 2669,   53, ...,   12,  233,   26],\n",
              "       ...,\n",
              "       [ 272, 2667,  361, ...,  157,  357,   49],\n",
              "       [2667,  361, 1200, ...,  357,   49,  110],\n",
              "       [ 361, 1200, 1201, ...,   49,  110,  156]])"
            ]
          },
          "metadata": {
            "tags": []
          },
          "execution_count": 16
        }
      ]
    },
    {
      "cell_type": "code",
      "metadata": {
        "id": "1rj26a7lRoPx"
      },
      "source": [
        "y=sequences[:,-1]\n",
        "x=sequences[:,:-1]"
      ],
      "execution_count": 21,
      "outputs": []
    },
    {
      "cell_type": "code",
      "metadata": {
        "id": "9wZhLD6SRudr"
      },
      "source": [
        "y=tf.keras.utils.to_categorical(y,num_classes=vocab_size+1)"
      ],
      "execution_count": 34,
      "outputs": []
    },
    {
      "cell_type": "code",
      "metadata": {
        "colab": {
          "base_uri": "https://localhost:8080/"
        },
        "id": "VqVfFv_8VBlg",
        "outputId": "e41e3f4e-4761-47c0-c7ca-623f226a8f75"
      },
      "source": [
        "y.shape"
      ],
      "execution_count": 23,
      "outputs": [
        {
          "output_type": "execute_result",
          "data": {
            "text/plain": [
              "(13893,)"
            ]
          },
          "metadata": {
            "tags": []
          },
          "execution_count": 23
        }
      ]
    },
    {
      "cell_type": "code",
      "metadata": {
        "colab": {
          "base_uri": "https://localhost:8080/"
        },
        "id": "4W1OOMjoSEcd",
        "outputId": "36c4c3c3-4494-4062-e3ed-39a6436c5591"
      },
      "source": [
        "seq_length=x.shape[0]\n",
        "print(seq_length)"
      ],
      "execution_count": 53,
      "outputs": [
        {
          "output_type": "stream",
          "text": [
            "13893\n"
          ],
          "name": "stdout"
        }
      ]
    },
    {
      "cell_type": "code",
      "metadata": {
        "id": "QwHdIDfgWNB1"
      },
      "source": [
        ""
      ],
      "execution_count": null,
      "outputs": []
    },
    {
      "cell_type": "code",
      "metadata": {
        "id": "Y1WbiJPDGwI3"
      },
      "source": [
        "from keras.models import Sequential\n",
        "\n",
        "from keras.layers import Dense,LSTM,Embedding,Dropout,Bidirectional\n",
        "import tensorflow as tf\n",
        "def model1(vocab_size,seq_length):\n",
        "  model=Sequential()\n",
        "  model.add(Embedding(vocab_size+1,seq_length,input_length=seq_length))\n",
        "  model.add(Bidirectional(LSTM(300,activation='relu',return_sequences=True)))\n",
        "  model.add(Bidirectional(LSTM(300,activation='relu',return_sequences=False)))\n",
        "  model.add(Dropout(0.5))\n",
        "  model.add(Dense(300,activation='relu'))\n",
        "  model.add(Dense(2669,activation='softmax'))\n",
        "  model.compile(loss='categorical_crossentropy',metrics=['accuracy'],optimizer='adam')\n",
        "  return model"
      ],
      "execution_count": 54,
      "outputs": []
    },
    {
      "cell_type": "code",
      "metadata": {
        "colab": {
          "base_uri": "https://localhost:8080/"
        },
        "id": "rdw3a_vtRbEp",
        "outputId": "4f884c36-ae6b-495e-b91d-189cd296fedb"
      },
      "source": [
        "vocab_size=len(Tknizer.word_counts)\n",
        "model=model1(vocab_size+1,seq_length)"
      ],
      "execution_count": 55,
      "outputs": [
        {
          "output_type": "stream",
          "text": [
            "WARNING:tensorflow:Layer lstm_8 will not use cuDNN kernels since it doesn't meet the criteria. It will use a generic GPU kernel as fallback when running on GPU.\n",
            "WARNING:tensorflow:Layer lstm_8 will not use cuDNN kernels since it doesn't meet the criteria. It will use a generic GPU kernel as fallback when running on GPU.\n",
            "WARNING:tensorflow:Layer lstm_8 will not use cuDNN kernels since it doesn't meet the criteria. It will use a generic GPU kernel as fallback when running on GPU.\n",
            "WARNING:tensorflow:Layer lstm_9 will not use cuDNN kernels since it doesn't meet the criteria. It will use a generic GPU kernel as fallback when running on GPU.\n",
            "WARNING:tensorflow:Layer lstm_9 will not use cuDNN kernels since it doesn't meet the criteria. It will use a generic GPU kernel as fallback when running on GPU.\n",
            "WARNING:tensorflow:Layer lstm_9 will not use cuDNN kernels since it doesn't meet the criteria. It will use a generic GPU kernel as fallback when running on GPU.\n"
          ],
          "name": "stdout"
        }
      ]
    },
    {
      "cell_type": "code",
      "metadata": {
        "id": "lmE77EPoTUNY"
      },
      "source": [
        "patience = 1\n",
        "stop_patience = 3\n",
        "factor = 0.5\n",
        "\n",
        "callbacks = [\n",
        "    #tf.keras.callbacks.ModelCheckpoint(\"classify_model.h5\", save_best_only=True, verbose = 0),\n",
        "    tf.keras.callbacks.EarlyStopping(patience=stop_patience, monitor='loss', verbose=1),\n",
        "    tf.keras.callbacks.ReduceLROnPlateau(monitor='loss', factor=factor, patience=patience, verbose=1)\n",
        "]"
      ],
      "execution_count": 56,
      "outputs": []
    },
    {
      "cell_type": "code",
      "metadata": {
        "id": "N37W_7eeSkqJ"
      },
      "source": [
        "history=model.fit(x,y,epochs=110,batch_size=128)"
      ],
      "execution_count": null,
      "outputs": []
    },
    {
      "cell_type": "code",
      "metadata": {
        "id": "8_fmBVtPEvwp"
      },
      "source": [
        "#padded_sentencces=pad_sequences(sequences,maxlen=max_len)"
      ],
      "execution_count": 119,
      "outputs": []
    },
    {
      "cell_type": "code",
      "metadata": {
        "id": "T0q1Lf4iGzT7"
      },
      "source": [
        "model.save('GoodLSTMModel.h5')"
      ],
      "execution_count": 58,
      "outputs": []
    },
    {
      "cell_type": "code",
      "metadata": {
        "id": "CvniC5khIEn0"
      },
      "source": [
        "def generate_text(model,tokenizer,seq_len,seed_text,num_gen_words):\n",
        "  output_text=[]\n",
        "  input_text=seed_text\n",
        "  for i in range(num_gen_words):\n",
        "    encoded=tokenizer.texts_to_sequences([input_text])[0]\n",
        "    pad_encoded=pad_sequences([encoded],maxlen=seq_len)\n",
        "    pred_word_index=model.predict_classes(pad_encoded)[0]\n",
        "    pred_word=tokenizer.index_word[pred_word_index]\n",
        "    input_text+=' '+pred_word\n",
        "    output_text.append(pred_word)\n",
        "  return ' '.join(output_text)"
      ],
      "execution_count": 59,
      "outputs": []
    },
    {
      "cell_type": "code",
      "metadata": {
        "colab": {
          "base_uri": "https://localhost:8080/",
          "height": 35
        },
        "id": "lB2URvIxJIF5",
        "outputId": "1a8a472f-a4a0-4f44-c9d3-4823e1ccc6dc"
      },
      "source": [
        "seed_text='I just met you'\n",
        "seed_text"
      ],
      "execution_count": 60,
      "outputs": [
        {
          "output_type": "execute_result",
          "data": {
            "application/vnd.google.colaboratory.intrinsic+json": {
              "type": "string"
            },
            "text/plain": [
              "'I just met you'"
            ]
          },
          "metadata": {
            "tags": []
          },
          "execution_count": 60
        }
      ]
    },
    {
      "cell_type": "code",
      "metadata": {
        "colab": {
          "base_uri": "https://localhost:8080/",
          "height": 88
        },
        "id": "pwme2KihJYsY",
        "outputId": "6a8d81f5-bfb0-4403-eb15-de2566a18319"
      },
      "source": [
        "generate_text(model,Tknizer,seq_length,seed_text,num_gen_words=25)"
      ],
      "execution_count": 61,
      "outputs": [
        {
          "output_type": "stream",
          "text": [
            "/usr/local/lib/python3.7/dist-packages/keras/engine/sequential.py:450: UserWarning: `model.predict_classes()` is deprecated and will be removed after 2021-01-01. Please use instead:* `np.argmax(model.predict(x), axis=-1)`,   if your model does multi-class classification   (e.g. if it uses a `softmax` last-layer activation).* `(model.predict(x) > 0.5).astype(\"int32\")`,   if your model does binary classification   (e.g. if it uses a `sigmoid` last-layer activation).\n",
            "  warnings.warn('`model.predict_classes()` is deprecated and '\n"
          ],
          "name": "stderr"
        },
        {
          "output_type": "execute_result",
          "data": {
            "application/vnd.google.colaboratory.intrinsic+json": {
              "type": "string"
            },
            "text/plain": [
              "'a wobblin of thyme he s as rowans are delight in thundering mountain side by on fire and lasses to your wedding she s no'"
            ]
          },
          "metadata": {
            "tags": []
          },
          "execution_count": 61
        }
      ]
    },
    {
      "cell_type": "code",
      "metadata": {
        "id": "3exYC1CXJPVs"
      },
      "source": [
        ""
      ],
      "execution_count": null,
      "outputs": []
    },
    {
      "cell_type": "code",
      "metadata": {
        "id": "M_-TIEU1IIK7"
      },
      "source": [
        ""
      ],
      "execution_count": 130,
      "outputs": []
    },
    {
      "cell_type": "code",
      "metadata": {
        "id": "vx0NVOodIUHO"
      },
      "source": [
        ""
      ],
      "execution_count": 131,
      "outputs": []
    }
  ]
}